{
 "cells": [
  {
   "cell_type": "code",
   "execution_count": 1,
   "id": "b8369ba1-e21b-4d46-9c6f-f041e903af38",
   "metadata": {},
   "outputs": [
    {
     "name": "stdout",
     "output_type": "stream",
     "text": [
      "* \n",
      "* * \n",
      "* * * \n",
      "* * * * \n",
      "* * * * * \n"
     ]
    }
   ],
   "source": [
    "#1. Star (Asterisk) Patterns\n",
    "#1. Right-Angled Triangle Pattern\n",
    "n = 5\n",
    "for i in range(1, n+1):\n",
    "    print(\"* \" * i)\n"
   ]
  },
  {
   "cell_type": "code",
   "execution_count": 2,
   "id": "21004e61-55a0-40ff-8640-f24603c40aa0",
   "metadata": {},
   "outputs": [
    {
     "name": "stdout",
     "output_type": "stream",
     "text": [
      "* * * * * \n",
      "* * * * \n",
      "* * * \n",
      "* * \n",
      "* \n"
     ]
    }
   ],
   "source": [
    "#2. Inverted Right-Angled Triangle Pattern\n",
    "n = 5\n",
    "for i in range(n, 0, -1):\n",
    "    print(\"* \" * i)\n"
   ]
  },
  {
   "cell_type": "code",
   "execution_count": 3,
   "id": "7e0e8642-e9b4-4bf6-88f2-7e8916d66ab6",
   "metadata": {},
   "outputs": [
    {
     "name": "stdout",
     "output_type": "stream",
     "text": [
      "    * \n",
      "   * * \n",
      "  * * * \n",
      " * * * * \n",
      "* * * * * \n"
     ]
    }
   ],
   "source": [
    "#3. Pyramid Pattern\n",
    "n = 5\n",
    "for i in range(1, n+1):\n",
    "    print(\" \" * (n-i) + \"* \" * i)\n"
   ]
  },
  {
   "cell_type": "code",
   "execution_count": 4,
   "id": "143d97bd-4878-4fb5-adee-4703c262d3d2",
   "metadata": {},
   "outputs": [
    {
     "name": "stdout",
     "output_type": "stream",
     "text": [
      "* * * * * \n",
      " * * * * \n",
      "  * * * \n",
      "   * * \n",
      "    * \n"
     ]
    }
   ],
   "source": [
    "#4. Inverted Pyramid Pattern\n",
    "n = 5\n",
    "for i in range(n, 0, -1):\n",
    "    print(\" \" * (n-i) + \"* \" * i)\n"
   ]
  },
  {
   "cell_type": "code",
   "execution_count": 5,
   "id": "7e4bd1d4-8578-4233-9316-46a37806a240",
   "metadata": {},
   "outputs": [
    {
     "name": "stdout",
     "output_type": "stream",
     "text": [
      "    * \n",
      "   * * \n",
      "  * * * \n",
      " * * * * \n",
      "* * * * * \n",
      " * * * * \n",
      "  * * * \n",
      "   * * \n",
      "    * \n"
     ]
    }
   ],
   "source": [
    "#5. Diamond Pattern\n",
    "n = 5\n",
    "for i in range(1, n+1):\n",
    "    print(\" \" * (n-i) + \"* \" * i)\n",
    "for i in range(n-1, 0, -1):\n",
    "    print(\" \" * (n-i) + \"* \" * i)\n"
   ]
  },
  {
   "cell_type": "code",
   "execution_count": null,
   "id": "a4ed8fd7-462c-4ab3-8d02-0e9f30bec704",
   "metadata": {},
   "outputs": [],
   "source": []
  }
 ],
 "metadata": {
  "kernelspec": {
   "display_name": "Python 3 (ipykernel)",
   "language": "python",
   "name": "python3"
  },
  "language_info": {
   "codemirror_mode": {
    "name": "ipython",
    "version": 3
   },
   "file_extension": ".py",
   "mimetype": "text/x-python",
   "name": "python",
   "nbconvert_exporter": "python",
   "pygments_lexer": "ipython3",
   "version": "3.13.1"
  }
 },
 "nbformat": 4,
 "nbformat_minor": 5
}
