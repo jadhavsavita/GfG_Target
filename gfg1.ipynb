{
 "cells": [
  {
   "cell_type": "code",
   "execution_count": 1,
   "id": "6cf8d7f1-73fb-40a6-abb7-efd9282f07a3",
   "metadata": {},
   "outputs": [
    {
     "name": "stdout",
     "output_type": "stream",
     "text": [
      "much very program this like i\n",
      "mno pqr\n",
      "a\n"
     ]
    }
   ],
   "source": [
    "#1.Reverse Words\n",
    "'''Given a string s, reverse the string without reversing its individual words.\n",
    "Words are separated by spaces.\n",
    "Input: s = \" i like this program very much \"\n",
    "Output: \"much very program this like i\" '''\n",
    "class Solution:\n",
    "    # Function to reverse words in a given string.\n",
    "    def reverseWords(self, s):\n",
    "        # Split the string into words using split(), which removes extra spaces automatically\n",
    "        words = s.split()\n",
    "        # Reverse the list of words\n",
    "        reversed_words = words[::-1]\n",
    "        # Join them back into a single string with a space\n",
    "        return \" \".join(reversed_words)\n",
    "\n",
    "# Example usage:\n",
    "sol = Solution()\n",
    "print(sol.reverseWords(\" i like this program very much \"))  # Output: \"much very program this like i\"\n",
    "print(sol.reverseWords(\" pqr mno \"))  # Output: \"mno pqr\"\n",
    "print(sol.reverseWords(\" a \"))  # Output: \"a\"\n",
    "\n"
   ]
  },
  {
   "cell_type": "code",
   "execution_count": 2,
   "id": "10664048-94bf-4371-8eda-2156be7b1549",
   "metadata": {},
   "outputs": [
    {
     "name": "stdout",
     "output_type": "stream",
     "text": [
      "[2, 3]\n",
      "[]\n",
      "[]\n"
     ]
    }
   ],
   "source": [
    "#2.Array Duplicates\n",
    "'''Given an array arr of integers, find all the elements that occur more than once in the array. \n",
    "If no element repeats, return an empty array.\n",
    "Examples:\n",
    "Input: arr[] = [2, 3, 1, 2, 3]\n",
    "Output: [2, 3] \n",
    "Explanation: 2 and 3 occur more than once in the given array.'''\n",
    "class Solution:\n",
    "    def findDuplicates(self, arr):\n",
    "        # Dictionary to store the frequency of each element\n",
    "        freq = {}\n",
    "        duplicates = []\n",
    "\n",
    "        # Count occurrences of each element\n",
    "        for num in arr:\n",
    "            freq[num] = freq.get(num, 0) + 1\n",
    "\n",
    "        # Collect elements that appear more than once\n",
    "        for num, count in freq.items():\n",
    "            if count > 1:\n",
    "                duplicates.append(num)\n",
    "\n",
    "        return duplicates\n",
    "\n",
    "# Example usage:\n",
    "sol = Solution()\n",
    "print(sol.findDuplicates([2, 3, 1, 2, 3]))  # Output: [2, 3]\n",
    "print(sol.findDuplicates([0, 3, 1, 2]))     # Output: []\n",
    "print(sol.findDuplicates([2]))              # Output: []\n"
   ]
  },
  {
   "cell_type": "code",
   "execution_count": 3,
   "id": "578e2ff7-c573-4b02-b18a-18e5876616b9",
   "metadata": {},
   "outputs": [
    {
     "name": "stdout",
     "output_type": "stream",
     "text": [
      "[3, 4, 5, 1, 2]\n",
      "[8, 10, 12, 14, 16, 18, 20, 2, 4, 6]\n",
      "[3, 9, 1, 7]\n"
     ]
    }
   ],
   "source": [
    "#3.Rotate Array\n",
    "'''Given an array arr[]. Rotate the array to the left (counter-clockwise direction) by d steps, \n",
    "where d is a positive integer. Do the mentioned change in the array in place.\n",
    "Note: Consider the array as circular.\n",
    "Examples :\n",
    "Input: arr[] = [1, 2, 3, 4, 5], d = 2\n",
    "Output: [3, 4, 5, 1, 2]\n",
    "Explanation: when rotated by 2 elements, it becomes 3 4 5 1 2.'''\n",
    "class Solution:\n",
    "    # Function to rotate an array by d elements in counter-clockwise direction.\n",
    "    def rotateArr(self, arr, d):\n",
    "        n = len(arr)\n",
    "        d = d % n  # Handle cases where d >= n\n",
    "\n",
    "        # Use slicing to rotate the array\n",
    "        arr[:] = arr[d:] + arr[:d]  # First d elements go to the end\n",
    "\n",
    "# Example usage:\n",
    "sol = Solution()\n",
    "\n",
    "arr1 = [1, 2, 3, 4, 5]\n",
    "sol.rotateArr(arr1, 2)\n",
    "print(arr1)  # Output: [3, 4, 5, 1, 2]\n",
    "\n",
    "arr2 = [2, 4, 6, 8, 10, 12, 14, 16, 18, 20]\n",
    "sol.rotateArr(arr2, 3)\n",
    "print(arr2)  # Output: [8, 10, 12, 14, 16, 18, 20, 2, 4, 6]\n",
    "\n",
    "arr3 = [7, 3, 9, 1]\n",
    "sol.rotateArr(arr3, 9)\n",
    "print(arr3)  # Output: [3, 9, 1, 7]\n"
   ]
  },
  {
   "cell_type": "code",
   "execution_count": 4,
   "id": "e8b7ee2c-95bf-4460-af61-4932e961d7b3",
   "metadata": {},
   "outputs": [
    {
     "name": "stdout",
     "output_type": "stream",
     "text": [
      "90\n",
      "5\n",
      "10\n"
     ]
    }
   ],
   "source": [
    "#4.Largest Element in Array\n",
    "'''Given an array arr[]. The task is to find the largest element and return it.\n",
    "Examples:\n",
    "Input: arr[] = [1, 8, 7, 56, 90]\n",
    "Output: 90\n",
    "Explanation: The largest element of the given array is 90.'''\n",
    "class Solution:\n",
    "    # Function to find the largest element in an array.\n",
    "    def largest(self, arr):\n",
    "        return max(arr)  # Using Python's built-in max() function\n",
    "\n",
    "# Example usage:\n",
    "sol = Solution()\n",
    "print(sol.largest([1, 8, 7, 56, 90]))  # Output: 90\n",
    "print(sol.largest([5, 5, 5, 5]))       # Output: 5\n",
    "print(sol.largest([10]))               # Output: 10\n"
   ]
  },
  {
   "cell_type": "code",
   "execution_count": null,
   "id": "dc12bd31-12db-4c04-a58a-ae557aa2b91f",
   "metadata": {},
   "outputs": [],
   "source": [
    "#5.Count Digits\n",
    "'''Given a positive integer n, count the number of digits in n that divide n evenly \n",
    "(i.e., without leaving a remainder). Return the total number of such digits.\n",
    "A digit d of n divides n evenly if the remainder when n is divided by d is 0 (n % d == 0).\n",
    "Digits of n should be checked individually. If a digit is 0, it should be ignored because division by 0 is undefined.\n",
    "Examples :\n",
    "Input: n = 12\n",
    "Output: 2\n",
    "Explanation: 1, 2 when both divide 12 leaves remainder 0.'''\n",
    "class Solution:\n",
    "    def evenlyDivides(self, n):\n",
    "        count = 0\n",
    "        for digit in str(n):  # Convert number to string and iterate over digits\n",
    "            d = int(digit)  # Convert character to integer\n",
    "            if d != 0 and n % d == 0:  # Check if digit divides n\n",
    "                count += 1\n",
    "        return count\n",
    "\n",
    "# Example usage:\n",
    "sol = Solution()\n",
    "print(sol.evenlyDivides(12))   # Output: 2\n",
    "print(sol.evenlyDivides(2446)) # Output: 1\n",
    "print(sol.evenlyDivides(23))   # Output: 0\n"
   ]
  }
 ],
 "metadata": {
  "kernelspec": {
   "display_name": "Python 3 (ipykernel)",
   "language": "python",
   "name": "python3"
  },
  "language_info": {
   "codemirror_mode": {
    "name": "ipython",
    "version": 3
   },
   "file_extension": ".py",
   "mimetype": "text/x-python",
   "name": "python",
   "nbconvert_exporter": "python",
   "pygments_lexer": "ipython3",
   "version": "3.13.1"
  }
 },
 "nbformat": 4,
 "nbformat_minor": 5
}
