{
 "cells": [
  {
   "cell_type": "code",
   "execution_count": 1,
   "id": "a6b53e61-199e-4730-866c-f0e458101f96",
   "metadata": {},
   "outputs": [
    {
     "name": "stdin",
     "output_type": "stream",
     "text": [
      "Enter a string:  sona\n"
     ]
    },
    {
     "name": "stdout",
     "output_type": "stream",
     "text": [
      "Reversed string: anos\n"
     ]
    }
   ],
   "source": [
    "#1. Reverse a String\n",
    "s = input(\"Enter a string: \")\n",
    "print(\"Reversed string:\", s[::-1])\n"
   ]
  },
  {
   "cell_type": "code",
   "execution_count": 3,
   "id": "66bf938c-513a-4061-888b-b4f0f6dda2f1",
   "metadata": {},
   "outputs": [
    {
     "name": "stdin",
     "output_type": "stream",
     "text": [
      "Enter a number:  888\n"
     ]
    },
    {
     "name": "stdout",
     "output_type": "stream",
     "text": [
      "Sum of digits: 24\n"
     ]
    }
   ],
   "source": [
    "#2. Sum of Digits\n",
    "num = int(input(\"Enter a number: \"))\n",
    "sum_digits = sum(map(int, str(num)))\n",
    "print(\"Sum of digits:\", sum_digits)\n"
   ]
  },
  {
   "cell_type": "code",
   "execution_count": 4,
   "id": "7ae5267d-52c8-4424-8975-81e8ec9728df",
   "metadata": {},
   "outputs": [
    {
     "name": "stdin",
     "output_type": "stream",
     "text": [
      "Enter a number:  34\n"
     ]
    },
    {
     "name": "stdout",
     "output_type": "stream",
     "text": [
      "Not an Armstrong number\n"
     ]
    }
   ],
   "source": [
    "#3.Armstrong Number Verification\n",
    "num = int(input(\"Enter a number: \"))\n",
    "order = len(str(num))\n",
    "sum_digits = sum(int(digit) ** order for digit in str(num))\n",
    "\n",
    "if sum_digits == num:\n",
    "    print(\"Armstrong number\")\n",
    "else:\n",
    "    print(\"Not an Armstrong number\")\n"
   ]
  },
  {
   "cell_type": "code",
   "execution_count": 5,
   "id": "7e71c71c-8398-479c-9491-6310d9dd941f",
   "metadata": {},
   "outputs": [
    {
     "name": "stdin",
     "output_type": "stream",
     "text": [
      "Enter a year:  2001\n"
     ]
    },
    {
     "name": "stdout",
     "output_type": "stream",
     "text": [
      "Not a leap year\n"
     ]
    }
   ],
   "source": [
    "#4. Leap Year Determination\n",
    "year = int(input(\"Enter a year: \"))\n",
    "if (year % 4 == 0 and year % 100 != 0) or (year % 400 == 0):\n",
    "    print(\"Leap year\")\n",
    "else:\n",
    "    print(\"Not a leap year\")\n"
   ]
  },
  {
   "cell_type": "code",
   "execution_count": 6,
   "id": "0fba9ee6-cd82-46d9-9042-be2ce35f4bd3",
   "metadata": {},
   "outputs": [
    {
     "name": "stdin",
     "output_type": "stream",
     "text": [
      "Enter two numbers:  66 91\n"
     ]
    },
    {
     "name": "stdout",
     "output_type": "stream",
     "text": [
      "After swapping: a = 91 , b = 66\n"
     ]
    }
   ],
   "source": [
    "#5.Swapping Two Numbers Without a Temporary Variable\n",
    "a, b = map(int, input(\"Enter two numbers: \").split())\n",
    "a, b = b, a\n",
    "print(\"After swapping: a =\", a, \", b =\", b)\n"
   ]
  },
  {
   "cell_type": "code",
   "execution_count": null,
   "id": "efd0599d-7b7e-4951-b679-60d0be563ffa",
   "metadata": {},
   "outputs": [],
   "source": []
  }
 ],
 "metadata": {
  "kernelspec": {
   "display_name": "Python 3 (ipykernel)",
   "language": "python",
   "name": "python3"
  },
  "language_info": {
   "codemirror_mode": {
    "name": "ipython",
    "version": 3
   },
   "file_extension": ".py",
   "mimetype": "text/x-python",
   "name": "python",
   "nbconvert_exporter": "python",
   "pygments_lexer": "ipython3",
   "version": "3.13.1"
  }
 },
 "nbformat": 4,
 "nbformat_minor": 5
}
