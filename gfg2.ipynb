{
 "cells": [
  {
   "cell_type": "code",
   "execution_count": 1,
   "id": "229f0801-6864-4be2-99a2-5d1af7c6c8cb",
   "metadata": {},
   "outputs": [
    {
     "name": "stdout",
     "output_type": "stream",
     "text": [
      "[5, 1, 2, 3, 4]\n",
      "[3, 9, 8, 7, 6, 4, 2, 1]\n"
     ]
    }
   ],
   "source": [
    "#1.Rotate Array by One\n",
    "'''Given an array arr, rotate the array by one position in clockwise direction.\n",
    "Examples:\n",
    "Input: arr[] = [1, 2, 3, 4, 5]\n",
    "Output: [5, 1, 2, 3, 4]\n",
    "Explanation: If we rotate arr by one position in clockwise 5 come to the front \n",
    "and remaining those are shifted to the end'''\n",
    "class Solution:\n",
    "    def rotate(self, arr):\n",
    "        if not arr:  # Check if array is empty\n",
    "            return arr\n",
    "        last_element = arr.pop()  # Remove the last element\n",
    "        arr.insert(0, last_element)  # Insert it at the beginning\n",
    "        return arr  # Return modified array\n",
    "\n",
    "# Example Usage\n",
    "arr1 = [1, 2, 3, 4, 5]\n",
    "arr2 = [9, 8, 7, 6, 4, 2, 1, 3]\n",
    "\n",
    "sol = Solution()\n",
    "print(sol.rotate(arr1))  # Output: [5, 1, 2, 3, 4]\n",
    "print(sol.rotate(arr2))  # Output: [3, 9, 8, 7, 6, 4, 2, 1]\n"
   ]
  },
  {
   "cell_type": "code",
   "execution_count": 2,
   "id": "ea72af21-9547-49de-97f4-bda7e3935e9a",
   "metadata": {},
   "outputs": [
    {
     "name": "stdout",
     "output_type": "stream",
     "text": [
      "[1, 2, 4, 3, 5, 0, 0, 0]\n",
      "[10, 20, 30]\n",
      "[0, 0]\n"
     ]
    }
   ],
   "source": [
    "#Move All Zeroes to End\n",
    "'''You are given an array arr[] of non-negative integers. Your task is to move all the zeros\n",
    "in the array to the right end while maintaining the relative order of the non-zero elements.\n",
    "The operation must be performed in place, meaning you should not use extra space for another array.\n",
    "Examples:\n",
    "Input: arr[] = [1, 2, 0, 4, 3, 0, 5, 0]\n",
    "Output: [1, 2, 4, 3, 5, 0, 0, 0]\n",
    "Explanation: There are three 0s that are moved to the end.'''\n",
    "class Solution:\n",
    "    def pushZerosToEnd(self, arr):\n",
    "        # Initialize a pointer for the position of non-zero elements\n",
    "        position = 0\n",
    "        \n",
    "        # Traverse the array\n",
    "        for i in range(len(arr)):\n",
    "            if arr[i] != 0:  # If the current element is non-zero\n",
    "                arr[position], arr[i] = arr[i], arr[position]  # Swap with the position pointer\n",
    "                position += 1  # Move the position pointer forward\n",
    "        \n",
    "        return arr\n",
    "\n",
    "# Example usage\n",
    "solution = Solution()\n",
    "\n",
    "arr1 = [1, 2, 0, 4, 3, 0, 5, 0]\n",
    "print(solution.pushZerosToEnd(arr1))  # Output: [1, 2, 4, 3, 5, 0, 0, 0]\n",
    "\n",
    "arr2 = [10, 20, 30]\n",
    "print(solution.pushZerosToEnd(arr2))  # Output: [10, 20, 30]\n",
    "\n",
    "arr3 = [0, 0]\n",
    "print(solution.pushZerosToEnd(arr3))  # Output: [0, 0]\n"
   ]
  },
  {
   "cell_type": "code",
   "execution_count": 3,
   "id": "535e8ed9-4c6e-4df6-8112-877b2c294def",
   "metadata": {},
   "outputs": [
    {
     "name": "stdout",
     "output_type": "stream",
     "text": [
      "True\n",
      "False\n",
      "True\n"
     ]
    }
   ],
   "source": [
    "#3.Check if array is sorted\n",
    "'''Given an array arr[], check whether it is sorted in non-decreasing order. \n",
    "Return true if it is sorted otherwise false.\n",
    "Examples:\n",
    "Input: arr[] = [10, 20, 30, 40, 50]\n",
    "Output: true\n",
    "Explanation: The given array is sorted.'''\n",
    "class Solution:\n",
    "    def arraySortedOrNot(self, arr) -> bool:\n",
    "        return arr == sorted(arr)  # Compare original array with its sorted version\n",
    "\n",
    "# Example Usage\n",
    "sol = Solution()\n",
    "print(sol.arraySortedOrNot([10, 20, 30, 40, 50]))  # Output: True\n",
    "print(sol.arraySortedOrNot([90, 80, 100, 70, 40, 30]))  # Output: False\n",
    "print(sol.arraySortedOrNot([1, 2, 2, 3]))  # Output: True\n"
   ]
  },
  {
   "cell_type": "code",
   "execution_count": 4,
   "id": "8409ac94-87a6-4e38-9983-c2666c381d29",
   "metadata": {},
   "outputs": [
    {
     "name": "stdout",
     "output_type": "stream",
     "text": [
      "[5, 6, 2, 3, 4, 1]\n",
      "[2, 5, 4]\n",
      "[1]\n"
     ]
    }
   ],
   "source": [
    "#4.Reverse an Array\n",
    "'''You are given an array of integers arr[]. Your task is to reverse the given array.\n",
    "Note: Modify the array in place.\n",
    "Examples:\n",
    "Input: arr = [1, 4, 3, 2, 6, 5]\n",
    "Output: [5, 6, 2, 3, 4, 1]\n",
    "Explanation: The elements of the array are 1 4 3 2 6 5. After reversing the array,\n",
    "the first element goes to the last position, the second element goes to the second last \n",
    "position and so on. Hence, the answer is 5 6 2 3 4 1.'''\n",
    "class Solution:\n",
    "    def reverseArray(self, arr):\n",
    "        arr.reverse()\n",
    "        #arr[:] = arr[::-1]  # Reverse in place using slicing\n",
    "        return arr\n",
    "\n",
    "# Example Usage\n",
    "sol = Solution()\n",
    "print(sol.reverseArray([1, 4, 3, 2, 6, 5]))  # Output: [5, 6, 2, 3, 4, 1]\n",
    "print(sol.reverseArray([4, 5, 2]))  # Output: [2, 5, 4]\n",
    "print(sol.reverseArray([1]))  # Output: [1]\n"
   ]
  },
  {
   "cell_type": "code",
   "execution_count": null,
   "id": "ce80745a-498f-4dc3-8507-3d3fc3b9c159",
   "metadata": {},
   "outputs": [],
   "source": [
    "#5.Intersection of two sorted arrays\n",
    "''' Given two sorted arrays arr1[] and arr2[]. Your task is to return the intersection of both arrays.\n",
    "Intersection of two arrays is said to be elements that are common in both arrays.\n",
    "The intersection should not count duplicate elements.\n",
    "Note: If there is no intersection then return an empty array.\n",
    "Examples:\n",
    "Input: arr1[] = [1, 2, 3, 4], arr2[] = [2, 4, 6, 7, 8]\n",
    "Output: [2, 4]\n",
    "Explanation: 2 and 4 are only common elements in both the arrays.'''\n",
    "class Solution:\n",
    "    # Function to return a list containing the intersection of two arrays.\n",
    "    def intersection(self, arr1, arr2):\n",
    "        # Use sets to find unique elements and their intersection\n",
    "        set1 = set(arr1)\n",
    "        set2 = set(arr2)\n",
    "        \n",
    "        # Find the intersection of the two sets\n",
    "        result = list(set1 & set2)  # & is the set intersection operator\n",
    "        \n",
    "        # Return the sorted list of the intersection\n",
    "        return sorted(result)\n",
    "\n",
    "# Example usage\n",
    "solution = Solution()\n",
    "\n",
    "arr1 = [1, 2, 3, 4]\n",
    "arr2 = [2, 4, 6, 7, 8]\n",
    "print(solution.intersection(arr1, arr2))  # Output: [2, 4]\n",
    "\n",
    "arr3 = [1, 2, 2, 3, 4]\n",
    "arr4 = [2, 2, 4, 6, 7, 8]\n",
    "print(solution.intersection(arr3, arr4))  # Output: [2, 4]\n",
    "\n",
    "arr5 = [1, 3, 5]\n",
    "arr6 = [2, 4, 6]\n",
    "print(solution.intersection(arr5, arr6))  # Output: []\n"
   ]
  }
 ],
 "metadata": {
  "kernelspec": {
   "display_name": "Python 3 (ipykernel)",
   "language": "python",
   "name": "python3"
  },
  "language_info": {
   "codemirror_mode": {
    "name": "ipython",
    "version": 3
   },
   "file_extension": ".py",
   "mimetype": "text/x-python",
   "name": "python",
   "nbconvert_exporter": "python",
   "pygments_lexer": "ipython3",
   "version": "3.13.1"
  }
 },
 "nbformat": 4,
 "nbformat_minor": 5
}
